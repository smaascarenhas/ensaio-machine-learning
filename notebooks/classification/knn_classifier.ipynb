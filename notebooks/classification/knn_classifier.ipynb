{
 "cells": [
  {
   "cell_type": "markdown",
   "metadata": {},
   "source": [
    "# Ensaio de Machine Learning "
   ]
  },
  {
   "cell_type": "markdown",
   "metadata": {},
   "source": [
    "# 0.0 Import libraries"
   ]
  },
  {
   "cell_type": "code",
   "execution_count": 11,
   "metadata": {},
   "outputs": [],
   "source": [
    "import pandas                                       as pd\n",
    "import numpy                                        as np\n",
    "from matplotlib import pyplot as plt\n",
    "\n",
    "from sklearn.neighbors import KNeighborsClassifier \n",
    "from sklearn import metrics                         as mt"
   ]
  },
  {
   "cell_type": "markdown",
   "metadata": {},
   "source": [
    "# 0.1 Load dataset"
   ]
  },
  {
   "cell_type": "code",
   "execution_count": 2,
   "metadata": {},
   "outputs": [],
   "source": [
    "X_train = pd.read_csv('../../dataset/classification/X_training.csv')\n",
    "y_train = pd.read_csv('../../dataset/classification/y_training.csv')\n",
    "X_val = pd.read_csv('../../dataset/classification/X_validation.csv')\n",
    "y_val = pd.read_csv('../../dataset/classification/y_validation.csv')\n",
    "X_test = pd.read_csv('../../dataset/classification/X_test.csv')\n",
    "y_test = pd.read_csv('../../dataset/classification/y_test.csv')\n"
   ]
  },
  {
   "cell_type": "markdown",
   "metadata": {},
   "source": [
    "# 1.0 Training Model"
   ]
  },
  {
   "cell_type": "code",
   "execution_count": 3,
   "metadata": {},
   "outputs": [],
   "source": [
    "y_train = y_train.values.ravel()\n",
    "y_val = y_val.values.ravel()"
   ]
  },
  {
   "cell_type": "markdown",
   "metadata": {},
   "source": [
    "### Dados de treino"
   ]
  },
  {
   "cell_type": "code",
   "execution_count": 4,
   "metadata": {},
   "outputs": [
    {
     "name": "stdout",
     "output_type": "stream",
     "text": [
      "Para K = 3\n",
      "Accuracy = 0.8321864441839619\n",
      "Precision = 0.8120079059067492\n",
      "Recall = 0.7974099529082347\n",
      "f1-score = 0.8046427252733139\n",
      "Para K = 5\n",
      "Accuracy = 0.7815624353582018\n",
      "Precision = 0.7558933613500558\n",
      "Recall = 0.7325633193330788\n",
      "f1-score = 0.744045503021685\n",
      "Para K = 7\n",
      "Accuracy = 0.7563124870716403\n",
      "Precision = 0.731248949403261\n",
      "Recall = 0.6920898561792033\n",
      "f1-score = 0.7111307276085855\n",
      "Para K = 9\n",
      "Accuracy = 0.7399986209749707\n",
      "Precision = 0.7138144470140116\n",
      "Recall = 0.6678439607992872\n",
      "f1-score = 0.6900644397685429\n",
      "Para K = 11\n",
      "Accuracy = 0.7295594015031373\n",
      "Precision = 0.7046517266461155\n",
      "Recall = 0.6473208603792796\n",
      "f1-score = 0.6747707258826846\n",
      "Para K = 13\n",
      "Accuracy = 0.7189684892780804\n",
      "Precision = 0.6947234852490219\n",
      "Recall = 0.627147766323024\n",
      "f1-score = 0.6592083479656851\n",
      "Para K = 15\n",
      "Accuracy = 0.7106805488519616\n",
      "Precision = 0.6864515668498822\n",
      "Recall = 0.6119702176403208\n",
      "f1-score = 0.6470746559903106\n",
      "Para K = 17\n",
      "Accuracy = 0.7025443011790664\n",
      "Precision = 0.6796937659496901\n",
      "Recall = 0.5932289677994146\n",
      "f1-score = 0.6335247544938666\n",
      "Para K = 19\n",
      "Accuracy = 0.6968075570571606\n",
      "Precision = 0.6757893952934168\n",
      "Recall = 0.5774786814305715\n",
      "f1-score = 0.6227781209251253\n"
     ]
    }
   ],
   "source": [
    "k = np.arange( 3, 21, 2)\n",
    "acc_list = []\n",
    "precision_list = []\n",
    "recall_list = []\n",
    "f1_list = []\n",
    "\n",
    "for i in k:\n",
    "    print( 'Para K = {}'.format(i))\n",
    "    #model definition\n",
    "    knn = KNeighborsClassifier (n_neighbors=i)\n",
    "\n",
    "    # model training\n",
    "    knn.fit( X_train, y_train )\n",
    "\n",
    "    # model performance\n",
    "    y_pred = knn.predict( X_train )\n",
    "    \n",
    "    # accuracy\n",
    "    accuracy = mt.accuracy_score( y_train, y_pred )\n",
    "    print( 'Accuracy = {}'.format ( accuracy ))\n",
    "    acc_list.append( accuracy )\n",
    "    \n",
    "    # precision\n",
    "    precision = mt.precision_score( y_train, y_pred)\n",
    "    print( 'Precision = {}'.format( precision ))\n",
    "    precision_list.append( precision )\n",
    "    \n",
    "    # recall\n",
    "    recall = mt.recall_score( y_train, y_pred)\n",
    "    print( 'Recall = {}'.format( recall ))\n",
    "    recall_list.append( recall )\n",
    "    \n",
    "    # f1-score\n",
    "    f1_score = mt.f1_score( y_train, y_pred)\n",
    "    print( 'f1-score = {}'.format( f1_score ))\n",
    "    f1_list.append( f1_score )"
   ]
  },
  {
   "cell_type": "code",
   "execution_count": 5,
   "metadata": {},
   "outputs": [
    {
     "data": {
      "text/html": [
       "<div>\n",
       "<style scoped>\n",
       "    .dataframe tbody tr th:only-of-type {\n",
       "        vertical-align: middle;\n",
       "    }\n",
       "\n",
       "    .dataframe tbody tr th {\n",
       "        vertical-align: top;\n",
       "    }\n",
       "\n",
       "    .dataframe thead th {\n",
       "        text-align: right;\n",
       "    }\n",
       "</style>\n",
       "<table border=\"1\" class=\"dataframe\">\n",
       "  <thead>\n",
       "    <tr style=\"text-align: right;\">\n",
       "      <th></th>\n",
       "      <th>k</th>\n",
       "      <th>accuracy</th>\n",
       "      <th>precision</th>\n",
       "      <th>recall</th>\n",
       "      <th>f1-score</th>\n",
       "    </tr>\n",
       "  </thead>\n",
       "  <tbody>\n",
       "    <tr>\n",
       "      <th>0</th>\n",
       "      <td>3</td>\n",
       "      <td>0.832186</td>\n",
       "      <td>0.812008</td>\n",
       "      <td>0.797410</td>\n",
       "      <td>0.804643</td>\n",
       "    </tr>\n",
       "    <tr>\n",
       "      <th>1</th>\n",
       "      <td>5</td>\n",
       "      <td>0.781562</td>\n",
       "      <td>0.755893</td>\n",
       "      <td>0.732563</td>\n",
       "      <td>0.744046</td>\n",
       "    </tr>\n",
       "    <tr>\n",
       "      <th>2</th>\n",
       "      <td>7</td>\n",
       "      <td>0.756312</td>\n",
       "      <td>0.731249</td>\n",
       "      <td>0.692090</td>\n",
       "      <td>0.711131</td>\n",
       "    </tr>\n",
       "    <tr>\n",
       "      <th>3</th>\n",
       "      <td>9</td>\n",
       "      <td>0.739999</td>\n",
       "      <td>0.713814</td>\n",
       "      <td>0.667844</td>\n",
       "      <td>0.690064</td>\n",
       "    </tr>\n",
       "    <tr>\n",
       "      <th>4</th>\n",
       "      <td>11</td>\n",
       "      <td>0.729559</td>\n",
       "      <td>0.704652</td>\n",
       "      <td>0.647321</td>\n",
       "      <td>0.674771</td>\n",
       "    </tr>\n",
       "    <tr>\n",
       "      <th>5</th>\n",
       "      <td>13</td>\n",
       "      <td>0.718968</td>\n",
       "      <td>0.694723</td>\n",
       "      <td>0.627148</td>\n",
       "      <td>0.659208</td>\n",
       "    </tr>\n",
       "    <tr>\n",
       "      <th>6</th>\n",
       "      <td>15</td>\n",
       "      <td>0.710681</td>\n",
       "      <td>0.686452</td>\n",
       "      <td>0.611970</td>\n",
       "      <td>0.647075</td>\n",
       "    </tr>\n",
       "    <tr>\n",
       "      <th>7</th>\n",
       "      <td>17</td>\n",
       "      <td>0.702544</td>\n",
       "      <td>0.679694</td>\n",
       "      <td>0.593229</td>\n",
       "      <td>0.633525</td>\n",
       "    </tr>\n",
       "    <tr>\n",
       "      <th>8</th>\n",
       "      <td>19</td>\n",
       "      <td>0.696808</td>\n",
       "      <td>0.675789</td>\n",
       "      <td>0.577479</td>\n",
       "      <td>0.622778</td>\n",
       "    </tr>\n",
       "  </tbody>\n",
       "</table>\n",
       "</div>"
      ],
      "text/plain": [
       "    k  accuracy  precision    recall  f1-score\n",
       "0   3  0.832186   0.812008  0.797410  0.804643\n",
       "1   5  0.781562   0.755893  0.732563  0.744046\n",
       "2   7  0.756312   0.731249  0.692090  0.711131\n",
       "3   9  0.739999   0.713814  0.667844  0.690064\n",
       "4  11  0.729559   0.704652  0.647321  0.674771\n",
       "5  13  0.718968   0.694723  0.627148  0.659208\n",
       "6  15  0.710681   0.686452  0.611970  0.647075\n",
       "7  17  0.702544   0.679694  0.593229  0.633525\n",
       "8  19  0.696808   0.675789  0.577479  0.622778"
      ]
     },
     "execution_count": 5,
     "metadata": {},
     "output_type": "execute_result"
    }
   ],
   "source": [
    "best_k = { 'k': k, 'accuracy': acc_list, 'precision': precision_list, 'recall': recall_list, 'f1-score': f1_list}\n",
    "k_values_dataframe = pd.DataFrame(best_k)\n",
    "k_values_dataframe"
   ]
  },
  {
   "cell_type": "markdown",
   "metadata": {},
   "source": [
    "### Dados de validação"
   ]
  },
  {
   "cell_type": "code",
   "execution_count": 6,
   "metadata": {},
   "outputs": [
    {
     "name": "stdout",
     "output_type": "stream",
     "text": [
      "Accuracy = 0.6762765854757231\n",
      "Precision = 0.6278511404561825\n",
      "Recall = 0.6212784913505086\n",
      "F1-score = 0.6245475239765645\n"
     ]
    }
   ],
   "source": [
    "# Retreinando o modelo com o melhor parâmetro sobre os dados de validação\n",
    "best_k = acc_list.index( max( acc_list ) )\n",
    "\n",
    "# model definition\n",
    "knn = KNeighborsClassifier (n_neighbors=k[best_k])\n",
    "\n",
    "# model training\n",
    "knn.fit( X_train, y_train )\n",
    "\n",
    "# model performance\n",
    "yhat_val = knn.predict( X_val )\n",
    "\n",
    "# accuracy\n",
    "acc_val = mt.accuracy_score ( y_val, yhat_val)\n",
    "print( 'Accuracy = {}'.format ( acc_val ))\n",
    "\n",
    "# precision\n",
    "precision_val = mt.precision_score( y_val, yhat_val)\n",
    "print( 'Precision = {}'.format( precision_val ))\n",
    "    \n",
    "# recall\n",
    "recall_val = mt.recall_score( y_val, yhat_val)\n",
    "print( 'Recall = {}'.format( recall_val ))\n",
    "    \n",
    "# f1-score\n",
    "f1_score_val = mt.f1_score( y_val, yhat_val)\n",
    "print( 'F1-score = {}'.format( f1_score_val ))"
   ]
  },
  {
   "cell_type": "markdown",
   "metadata": {},
   "source": [
    "### Dados de teste"
   ]
  },
  {
   "cell_type": "code",
   "execution_count": 7,
   "metadata": {},
   "outputs": [
    {
     "name": "stderr",
     "output_type": "stream",
     "text": [
      "c:\\Users\\Samir\\anaconda3\\envs\\fund_ml\\Lib\\site-packages\\sklearn\\base.py:486: UserWarning: X has feature names, but KNeighborsClassifier was fitted without feature names\n",
      "  warnings.warn(\n"
     ]
    },
    {
     "name": "stdout",
     "output_type": "stream",
     "text": [
      "Accuracy = 0.6884486154559147\n",
      "Precision = 0.6480251346499102\n",
      "Recall = 0.6351957765068191\n",
      "F1-score = 0.6415463230393246\n"
     ]
    }
   ],
   "source": [
    "# Retreinando o modelo com o melhor parâmetro sobre os dados de teste\n",
    "best_k = acc_list.index( max ( acc_list ) )\n",
    "\n",
    "# model definition\n",
    "knn_model = KNeighborsClassifier( n_neighbors=k[best_k])\n",
    "\n",
    "# model training\n",
    "knn_model.fit(np.concatenate( (X_train, X_val) ),\n",
    "               np.concatenate( (y_train, y_val) ) )\n",
    "\n",
    "# model performance\n",
    "y_pred = knn_model.predict( X_test )\n",
    "\n",
    "# accuracy\n",
    "acc_test = mt.accuracy_score ( y_test, y_pred)\n",
    "print( 'Accuracy = {}'.format ( acc_test ))\n",
    "\n",
    "# precision\n",
    "precision_test = mt.precision_score( y_test, y_pred)\n",
    "print( 'Precision = {}'.format( precision_test ))\n",
    "    \n",
    "# recall\n",
    "recall_test = mt.recall_score( y_test, y_pred)\n",
    "print( 'Recall = {}'.format( recall_test ))\n",
    "    \n",
    "# f1-score\n",
    "f1_score_test = mt.f1_score( y_test, y_pred)\n",
    "print( 'F1-score = {}'.format( f1_score_test ))"
   ]
  }
 ],
 "metadata": {
  "kernelspec": {
   "display_name": "fund_ml",
   "language": "python",
   "name": "python3"
  },
  "language_info": {
   "codemirror_mode": {
    "name": "ipython",
    "version": 3
   },
   "file_extension": ".py",
   "mimetype": "text/x-python",
   "name": "python",
   "nbconvert_exporter": "python",
   "pygments_lexer": "ipython3",
   "version": "3.11.8"
  }
 },
 "nbformat": 4,
 "nbformat_minor": 2
}
