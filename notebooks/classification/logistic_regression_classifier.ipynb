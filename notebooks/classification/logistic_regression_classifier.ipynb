{
 "cells": [
  {
   "cell_type": "markdown",
   "metadata": {},
   "source": [
    "# 0.0 Import Libraries"
   ]
  },
  {
   "cell_type": "code",
   "execution_count": 1,
   "metadata": {},
   "outputs": [],
   "source": [
    "import numpy                        as np\n",
    "import pandas                       as pd \n",
    "\n",
    "from sklearn import datasets        as dt\n",
    "from sklearn import model_selection as ms\n",
    "from sklearn import metrics         as mt\n",
    "from sklearn import linear_model    as lm"
   ]
  },
  {
   "cell_type": "markdown",
   "metadata": {},
   "source": [
    "# 0.1 Load dataset"
   ]
  },
  {
   "cell_type": "code",
   "execution_count": 6,
   "metadata": {},
   "outputs": [],
   "source": [
    "X_train = pd.read_csv('../../dataset/classification/X_training.csv')\n",
    "y_train = pd.read_csv('../../dataset/classification/y_training.csv')\n",
    "X_val = pd.read_csv('../../dataset/classification/X_validation.csv')\n",
    "y_val = pd.read_csv('../../dataset/classification/y_validation.csv')\n",
    "X_test = pd.read_csv('../../dataset/classification/X_test.csv')\n",
    "y_test = pd.read_csv('../../dataset/classification/y_test.csv')\n"
   ]
  },
  {
   "cell_type": "markdown",
   "metadata": {},
   "source": [
    "# 1.0 Training model"
   ]
  },
  {
   "cell_type": "code",
   "execution_count": 7,
   "metadata": {},
   "outputs": [],
   "source": [
    "y_train = y_train.values.ravel()\n",
    "y_val = y_val.values.ravel()"
   ]
  },
  {
   "cell_type": "markdown",
   "metadata": {},
   "source": [
    "## Dados de treino"
   ]
  },
  {
   "cell_type": "code",
   "execution_count": 8,
   "metadata": {},
   "outputs": [
    {
     "name": "stdout",
     "output_type": "stream",
     "text": [
      "Max Accuracy: 0.8760808108667172\n",
      "Max Precision = 0.8716055106636641\n",
      "Max Recall = 0.8374379534173348\n",
      "Max f1-score = 0.8541801895365442\n"
     ]
    }
   ],
   "source": [
    "# define\n",
    "lr = lm.LogisticRegression( C=1.0, solver='newton-cholesky', max_iter=100)\n",
    "\n",
    "# training\n",
    "lr.fit( X_train, y_train)\n",
    "\n",
    "# performance\n",
    "y_pred = lr.predict( X_train )\n",
    "\n",
    "# accuracy\n",
    "acc = mt.accuracy_score( y_train, y_pred)\n",
    "# precision\n",
    "pre = mt.precision_score( y_train, y_pred)\n",
    "# recall\n",
    "rec = mt.recall_score( y_train, y_pred )\n",
    "# f1-score\n",
    "f1 = mt.f1_score( y_train, y_pred)\n",
    "\n",
    "print('Max Accuracy: {}'.format(acc))\n",
    "print( 'Max Precision = {}'.format( pre ))\n",
    "print( 'Max Recall = {}'.format( rec ))\n",
    "print( 'Max f1-score = {}'.format( f1 ))"
   ]
  },
  {
   "cell_type": "markdown",
   "metadata": {},
   "source": [
    "## Dados de validação"
   ]
  },
  {
   "cell_type": "code",
   "execution_count": 31,
   "metadata": {},
   "outputs": [
    {
     "name": "stdout",
     "output_type": "stream",
     "text": [
      "Max Accuracy: 0.8743846327101902\n",
      "Max Precision = 0.8692765037448845\n",
      "Max Recall = 0.8358452743336551\n",
      "Max f1-score = 0.8522331566994701\n"
     ]
    }
   ],
   "source": [
    "# Retreinando o modelo com os melhores parâmetros sobre os dados de validação\n",
    "# define\n",
    "lr = lm.LogisticRegression( C=1.0, solver='newton-cholesky', max_iter=100)\n",
    "\n",
    "# training\n",
    "lr.fit( X_train, y_train)\n",
    "\n",
    "# performance\n",
    "yhat_val = lr.predict( X_val )\n",
    "\n",
    "# accuracy\n",
    "acc_val = mt.accuracy_score( y_val, yhat_val)\n",
    "# precision\n",
    "pre_val = mt.precision_score( y_val, yhat_val)\n",
    "# recall\n",
    "rec_val = mt.recall_score( y_val, yhat_val )\n",
    "# f1-score\n",
    "f1_val = mt.f1_score( y_val, yhat_val)\n",
    "\n",
    "print('Max Accuracy: {}'.format(acc_val))\n",
    "print( 'Max Precision = {}'.format( pre_val ))\n",
    "print( 'Max Recall = {}'.format( rec_val ))\n",
    "print( 'Max f1-score = {}'.format( f1_val ))"
   ]
  },
  {
   "cell_type": "markdown",
   "metadata": {},
   "source": [
    "## Dados de teste"
   ]
  },
  {
   "cell_type": "code",
   "execution_count": 36,
   "metadata": {},
   "outputs": [
    {
     "name": "stdout",
     "output_type": "stream",
     "text": [
      "Max Accuracy: 0.8717800177654192\n",
      "Max Precision = 0.8680574617988837\n",
      "Max Recall = 0.834755829300484\n",
      "Max f1-score = 0.8510810083430519\n"
     ]
    },
    {
     "name": "stderr",
     "output_type": "stream",
     "text": [
      "c:\\Users\\Samir\\anaconda3\\envs\\fund_ml\\Lib\\site-packages\\sklearn\\base.py:486: UserWarning: X has feature names, but LogisticRegression was fitted without feature names\n",
      "  warnings.warn(\n"
     ]
    }
   ],
   "source": [
    "# Retreinando o modelo com os melhores parâmetros sobre os dados de validação\n",
    "# define\n",
    "lr = lm.LogisticRegression( C=1.0, solver='newton-cholesky', max_iter=100)\n",
    "\n",
    "# training\n",
    "lr.fit( np.concatenate( ( X_train, X_val ) ),\n",
    "        np.concatenate( ( y_train, y_val ) ) )\n",
    "\n",
    "# performance\n",
    "yhat_test = lr.predict( X_test )\n",
    "\n",
    "# accuracy\n",
    "acc_test = mt.accuracy_score( y_test, yhat_test )\n",
    "# precision\n",
    "pre_test = mt.precision_score( y_test, yhat_test )\n",
    "# recall\n",
    "rec_test = mt.recall_score( y_test, yhat_test )\n",
    "# f1-score\n",
    "f1_test = mt.f1_score( y_test, yhat_test )\n",
    "\n",
    "print('Max Accuracy: {}'.format(acc_test))\n",
    "print( 'Max Precision = {}'.format( pre_test ))\n",
    "print( 'Max Recall = {}'.format( rec_test ))\n",
    "print( 'Max f1-score = {}'.format( f1_test ))"
   ]
  }
 ],
 "metadata": {
  "kernelspec": {
   "display_name": "fund_ml",
   "language": "python",
   "name": "python3"
  },
  "language_info": {
   "codemirror_mode": {
    "name": "ipython",
    "version": 3
   },
   "file_extension": ".py",
   "mimetype": "text/x-python",
   "name": "python",
   "nbconvert_exporter": "python",
   "pygments_lexer": "ipython3",
   "version": "3.11.8"
  }
 },
 "nbformat": 4,
 "nbformat_minor": 2
}
