{
 "cells": [
  {
   "cell_type": "markdown",
   "metadata": {},
   "source": [
    "# Ensaio de Machine Learning "
   ]
  },
  {
   "cell_type": "markdown",
   "metadata": {},
   "source": [
    "# 0.0 Import libraries"
   ]
  },
  {
   "cell_type": "code",
   "execution_count": 1,
   "metadata": {},
   "outputs": [],
   "source": [
    "import pandas as pd\n",
    "import numpy as np\n",
    "from matplotlib import pyplot          as plt\n",
    "from sklearn    import tree            as tr\n",
    "from sklearn    import metrics         as mt"
   ]
  },
  {
   "cell_type": "markdown",
   "metadata": {},
   "source": [
    "# 0.1 Load dataset"
   ]
  },
  {
   "cell_type": "code",
   "execution_count": 2,
   "metadata": {},
   "outputs": [],
   "source": [
    "X_train = pd.read_csv('../../dataset/classification/X_training.csv')\n",
    "y_train = pd.read_csv('../../dataset/classification/y_training.csv')\n",
    "X_val = pd.read_csv('../../dataset/classification/X_validation.csv')\n",
    "y_val = pd.read_csv('../../dataset/classification/y_validation.csv')\n",
    "X_test = pd.read_csv('../../dataset/classification/X_test.csv')\n",
    "y_test = pd.read_csv('../../dataset/classification/y_test.csv')\n"
   ]
  },
  {
   "cell_type": "markdown",
   "metadata": {},
   "source": [
    "# 1.0 Training Model"
   ]
  },
  {
   "cell_type": "code",
   "execution_count": 4,
   "metadata": {},
   "outputs": [],
   "source": [
    "y_train = y_train.values.ravel()\n",
    "y_val = y_val.values.ravel()"
   ]
  },
  {
   "cell_type": "markdown",
   "metadata": {},
   "source": [
    "## Dados de treinamento"
   ]
  },
  {
   "cell_type": "code",
   "execution_count": null,
   "metadata": {},
   "outputs": [],
   "source": [
    "m = np.arange( 2, 60, 1)\n",
    "acc_list = []\n",
    "precision_list = []\n",
    "rec_list = []\n",
    "f1_list = []\n",
    "\n",
    "for i in m:\n",
    "    # model definition\n",
    "    model = tr.DecisionTreeClassifier( max_depth=i )\n",
    "\n",
    "    # model training\n",
    "    model.fit ( X_train, y_train )\n",
    "    \n",
    "    # model performance\n",
    "    yhat_train = model.predict( X_train)\n",
    "\n",
    "    # accuracy\n",
    "    acc = mt.accuracy_score ( y_train, yhat_train)\n",
    "    print( 'Accuracy = {}'.format ( acc ))\n",
    "    acc_list.append( acc )\n",
    "\n",
    "    # precision\n",
    "    precision = mt.precision_score( y_train, yhat_train)\n",
    "    print( 'Precision = {}'.format( precision ))\n",
    "    precision_list.append( precision )\n",
    "    \n",
    "    # recall\n",
    "    recall = mt.recall_score( y_train, yhat_train)\n",
    "    print( 'Recall = {}'.format( recall ))\n",
    "    rec_list.append( recall )\n",
    "    \n",
    "    # f1-score\n",
    "    f1_score = mt.f1_score( y_train, yhat_train)\n",
    "    print( 'f1-score = {}'.format( f1_score ))\n",
    "    f1_list.append( f1_score )\n"
   ]
  },
  {
   "cell_type": "code",
   "execution_count": 61,
   "metadata": {},
   "outputs": [
    {
     "name": "stdout",
     "output_type": "stream",
     "text": [
      "Accuracy = 1.0\n",
      "Precision = 1.0\n",
      "Recall = 1.0\n",
      "f1-score = 1.0\n"
     ]
    }
   ],
   "source": [
    "# accuracy\n",
    "acc = mt.accuracy_score ( y_train, yhat_train)\n",
    "print( 'Accuracy = {}'.format ( acc ))\n",
    "\n",
    "# precision\n",
    "precision = mt.precision_score( y_train, yhat_train)\n",
    "print( 'Precision = {}'.format( precision ))\n",
    "   \n",
    "# recall\n",
    "recall = mt.recall_score( y_train, yhat_train)\n",
    "print( 'Recall = {}'.format( recall ))\n",
    " \n",
    "# f1-score\n",
    "f1_score = mt.f1_score( y_train, yhat_train)\n",
    "print( 'f1-score = {}'.format( f1_score ))"
   ]
  },
  {
   "cell_type": "code",
   "execution_count": 60,
   "metadata": {},
   "outputs": [
    {
     "data": {
      "text/plain": [
       "[<matplotlib.lines.Line2D at 0x25bed18e890>]"
      ]
     },
     "execution_count": 60,
     "metadata": {},
     "output_type": "execute_result"
    },
    {
     "data": {
      "image/png": "[encoded data removed]",
      "text/plain": [
       "<Figure size 640x480 with 1 Axes>"
      ]
     },
     "metadata": {},
     "output_type": "display_data"
    }
   ],
   "source": [
    "plt.plot( m, acc_list, '-o')"
   ]
  },
  {
   "cell_type": "markdown",
   "metadata": {},
   "source": [
    "## Dados de validação"
   ]
  },
  {
   "cell_type": "code",
   "execution_count": 67,
   "metadata": {},
   "outputs": [
    {
     "name": "stdout",
     "output_type": "stream",
     "text": [
      "Accuracy = 0.9454615656874417\n",
      "Precision = 0.9360094800770257\n",
      "Recall = 0.9383027693221472\n",
      "F1-score = 0.9371547217381632\n"
     ]
    }
   ],
   "source": [
    "# Retreinando o modelo com o melhor parâmetro sobre os dados de validação\n",
    "best_m = acc_list.index( max ( acc_list ) )\n",
    "\n",
    "# model definition\n",
    "model = tr.DecisionTreeClassifier( max_depth=m[best_m])\n",
    "\n",
    "# model training\n",
    "model.fit ( X_train, y_train )\n",
    "\n",
    "# model performance\n",
    "yhat_val = model.predict( X_val)\n",
    "\n",
    "# accuracy\n",
    "acc_val = mt.accuracy_score ( y_val, yhat_val)\n",
    "print( 'Accuracy = {}'.format ( acc_val ))\n",
    "\n",
    "# precision\n",
    "precision_val = mt.precision_score( y_val, yhat_val)\n",
    "print( 'Precision = {}'.format( precision_val ))\n",
    "    \n",
    "# recall\n",
    "recall_val = mt.recall_score( y_val, yhat_val)\n",
    "print( 'Recall = {}'.format( recall_val ))\n",
    "    \n",
    "# f1-score\n",
    "f1_score_val = mt.f1_score( y_val, yhat_val)\n",
    "print( 'F1-score = {}'.format( f1_score_val ))\n",
    "\n"
   ]
  },
  {
   "cell_type": "markdown",
   "metadata": {},
   "source": [
    "## Dados de teste"
   ]
  },
  {
   "cell_type": "code",
   "execution_count": 68,
   "metadata": {},
   "outputs": [
    {
     "name": "stdout",
     "output_type": "stream",
     "text": [
      "Accuracy = 0.9472444289962538\n",
      "Precision = 0.9387450636243967\n",
      "Recall = 0.941223053233612\n",
      "F1-score = 0.9399824253075572\n"
     ]
    },
    {
     "name": "stderr",
     "output_type": "stream",
     "text": [
      "c:\\Users\\Samir\\anaconda3\\envs\\fund_ml\\Lib\\site-packages\\sklearn\\base.py:486: UserWarning: X has feature names, but DecisionTreeClassifier was fitted without feature names\n",
      "  warnings.warn(\n"
     ]
    }
   ],
   "source": [
    "# Retreinando o modelo com o melhor parâmetro sobre os dados de teste\n",
    "best_m = acc_list.index( max ( acc_list ) )\n",
    "\n",
    "# model definition\n",
    "model_tree = tr.DecisionTreeClassifier( max_depth=m[best_m])\n",
    "\n",
    "# model training\n",
    "model_tree.fit(np.concatenate( (X_train, X_val) ),\n",
    "               np.concatenate( (y_train, y_val) ) )\n",
    "\n",
    "# model performance\n",
    "y_pred = model_tree.predict( X_test )\n",
    "\n",
    "# accuracy\n",
    "acc_test = mt.accuracy_score ( y_test, y_pred)\n",
    "print( 'Accuracy = {}'.format ( acc_test ))\n",
    "\n",
    "# precision\n",
    "precision_test = mt.precision_score( y_test, y_pred)\n",
    "print( 'Precision = {}'.format( precision_test ))\n",
    "    \n",
    "# recall\n",
    "recall_test = mt.recall_score( y_test, y_pred)\n",
    "print( 'Recall = {}'.format( recall_test ))\n",
    "    \n",
    "# f1-score\n",
    "f1_score_test = mt.f1_score( y_test, y_pred)\n",
    "print( 'F1-score = {}'.format( f1_score_test ))"
   ]
  }
 ],
 "metadata": {
  "kernelspec": {
   "display_name": "fund_ml",
   "language": "python",
   "name": "python3"
  },
  "language_info": {
   "codemirror_mode": {
    "name": "ipython",
    "version": 3
   },
   "file_extension": ".py",
   "mimetype": "text/x-python",
   "name": "python",
   "nbconvert_exporter": "python",
   "pygments_lexer": "ipython3",
   "version": "3.11.8"
  }
 },
 "nbformat": 4,
 "nbformat_minor": 2
}
