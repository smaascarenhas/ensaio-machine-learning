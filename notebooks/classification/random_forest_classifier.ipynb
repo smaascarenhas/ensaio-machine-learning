{
 "cells": [
  {
   "cell_type": "markdown",
   "metadata": {},
   "source": [
    "# 0.0 Import libraries"
   ]
  },
  {
   "cell_type": "code",
   "execution_count": 1,
   "metadata": {},
   "outputs": [],
   "source": [
    "import pandas as pd\n",
    "import numpy as np\n",
    "\n",
    "from sklearn.ensemble import RandomForestClassifier \n",
    "from sklearn import metrics as mt"
   ]
  },
  {
   "cell_type": "markdown",
   "metadata": {},
   "source": [
    "# 0.1 Load dataset"
   ]
  },
  {
   "cell_type": "code",
   "execution_count": 2,
   "metadata": {},
   "outputs": [],
   "source": [
    "X_train = pd.read_csv('../../dataset/classification/X_training.csv')\n",
    "y_train = pd.read_csv('../../dataset/classification/y_training.csv')\n",
    "X_val = pd.read_csv('../../dataset/classification/X_validation.csv')\n",
    "y_val = pd.read_csv('../../dataset/classification/y_validation.csv')\n",
    "X_test = pd.read_csv('../../dataset/classification/X_test.csv')\n",
    "y_test = pd.read_csv('../../dataset/classification/y_test.csv')\n"
   ]
  },
  {
   "cell_type": "markdown",
   "metadata": {},
   "source": [
    "# 1.0 Training Model"
   ]
  },
  {
   "cell_type": "code",
   "execution_count": 3,
   "metadata": {},
   "outputs": [],
   "source": [
    "y_train = y_train.values.ravel()\n",
    "y_val = y_val.values.ravel()"
   ]
  },
  {
   "cell_type": "markdown",
   "metadata": {},
   "source": [
    "## Dados de treino"
   ]
  },
  {
   "cell_type": "code",
   "execution_count": 4,
   "metadata": {},
   "outputs": [
    {
     "name": "stdout",
     "output_type": "stream",
     "text": [
      "Max Accuracy: 0.999972419499414\n",
      "Max Precision = 1.0\n",
      "Max Recall = 0.9999363624793178\n",
      "Max f1-score = 0.9999681802271931\n"
     ]
    }
   ],
   "source": [
    "k_list = np.arange(2, 41, 1)\n",
    "acc_list = []\n",
    "pre_list = []\n",
    "rec_list = []\n",
    "f1_list = []\n",
    "max_acc = 0\n",
    "max_pre = 0\n",
    "max_rec = 0\n",
    "max_f1 = 0\n",
    "\n",
    "\n",
    "for i in k_list:\n",
    "    # definition\n",
    "    model = RandomForestClassifier(n_estimators=50, \n",
    "                                    max_depth=i)\n",
    "    # fit\n",
    "    model.fit( X_train, y_train )\n",
    "\n",
    "    # performance\n",
    "    y_pred = model.predict( X_train )\n",
    "\n",
    "   # accuracy\n",
    "    acc = mt.accuracy_score(y_train, y_pred)\n",
    "    acc_list.append( acc )\n",
    "    if acc > max_acc:\n",
    "        max_acc = acc\n",
    "   \n",
    "   # precision\n",
    "    pre = mt.precision_score( y_train, y_pred)\n",
    "    pre_list.append( pre )\n",
    "    if pre > max_pre:\n",
    "        max_pre = pre\n",
    "\n",
    "    # recall\n",
    "    rec = mt.recall_score( y_train, y_pred)\n",
    "    rec_list.append( rec )\n",
    "    if rec > max_rec:\n",
    "        max_rec = rec\n",
    "    \n",
    "    # f1-score\n",
    "    f1 = mt.f1_score( y_train, y_pred)\n",
    "    f1_list.append( f1 )\n",
    "    if f1 > max_f1:\n",
    "        max_f1 = f1\n",
    "\n",
    "print('Max Accuracy: {}'.format(max_acc))\n",
    "print( 'Max Precision = {}'.format( max_pre ))\n",
    "print( 'Max Recall = {}'.format( max_rec ))\n",
    "print( 'Max f1-score = {}'.format( max_f1 ))"
   ]
  },
  {
   "cell_type": "markdown",
   "metadata": {},
   "source": [
    "## Dados de validação"
   ]
  },
  {
   "cell_type": "code",
   "execution_count": 6,
   "metadata": {},
   "outputs": [
    {
     "name": "stdout",
     "output_type": "stream",
     "text": [
      "Accuracy = 0.9641558608706844\n",
      "Precision = 0.9736256996089857\n",
      "Recall = 0.9428316875788848\n",
      "F1-score = 0.9579812914906457\n"
     ]
    }
   ],
   "source": [
    "# Retreinando o modelo com o melhor parâmetro sobre os dados de validação\n",
    "m = np.arange( 2, 41, 1)\n",
    "best_m = acc_list.index( max ( acc_list ) )\n",
    "\n",
    "# model definition\n",
    "model = model = RandomForestClassifier(n_estimators=50, \n",
    "                                        max_depth=m[best_m] )\n",
    "\n",
    "# model training\n",
    "model.fit ( X_train, y_train )\n",
    "\n",
    "# model performance\n",
    "yhat_val = model.predict( X_val)\n",
    "\n",
    "# accuracy\n",
    "acc_val = mt.accuracy_score ( y_val, yhat_val)\n",
    "print( 'Accuracy = {}'.format ( acc_val ))\n",
    "\n",
    "# precision\n",
    "precision_val = mt.precision_score( y_val, yhat_val)\n",
    "print( 'Precision = {}'.format( precision_val ))\n",
    "    \n",
    "# recall\n",
    "recall_val = mt.recall_score( y_val, yhat_val)\n",
    "print( 'Recall = {}'.format( recall_val ))\n",
    "    \n",
    "# f1-score\n",
    "f1_score_val = mt.f1_score( y_val, yhat_val)\n",
    "print( 'F1-score = {}'.format( f1_score_val ))"
   ]
  },
  {
   "cell_type": "markdown",
   "metadata": {},
   "source": [
    "## Dados de teste"
   ]
  },
  {
   "cell_type": "code",
   "execution_count": 8,
   "metadata": {},
   "outputs": [
    {
     "name": "stderr",
     "output_type": "stream",
     "text": [
      "c:\\Users\\Samir\\anaconda3\\envs\\fund_ml\\Lib\\site-packages\\sklearn\\base.py:486: UserWarning: X has feature names, but RandomForestClassifier was fitted without feature names\n",
      "  warnings.warn(\n"
     ]
    },
    {
     "name": "stdout",
     "output_type": "stream",
     "text": [
      "Accuracy = 0.9649326072683737\n",
      "Precision = 0.9740683652189682\n",
      "Recall = 0.9452705675318962\n",
      "F1-score = 0.9594534250245601\n"
     ]
    }
   ],
   "source": [
    "# Retreinando o modelo com o melhor parâmetro sobre os dados de teste\n",
    "best_m = acc_list.index( max ( acc_list ) )\n",
    "\n",
    "# model definition\n",
    "model = RandomForestClassifier(n_estimators=50, \n",
    "                                        max_depth=m[best_m] )\n",
    "\n",
    "# model training\n",
    "model.fit(np.concatenate( (X_train, X_val) ),\n",
    "          np.concatenate( (y_train, y_val) ) )\n",
    "\n",
    "# model performance\n",
    "y_pred = model.predict( X_test )\n",
    "\n",
    "# accuracy\n",
    "acc_test = mt.accuracy_score ( y_test, y_pred)\n",
    "print( 'Accuracy = {}'.format ( acc_test ))\n",
    "\n",
    "# precision\n",
    "precision_test = mt.precision_score( y_test, y_pred)\n",
    "print( 'Precision = {}'.format( precision_test ))\n",
    "    \n",
    "# recall\n",
    "recall_test = mt.recall_score( y_test, y_pred)\n",
    "print( 'Recall = {}'.format( recall_test ))\n",
    "    \n",
    "# f1-score\n",
    "f1_score_test = mt.f1_score( y_test, y_pred)\n",
    "print( 'F1-score = {}'.format( f1_score_test ))"
   ]
  }
 ],
 "metadata": {
  "kernelspec": {
   "display_name": "fund_ml",
   "language": "python",
   "name": "python3"
  },
  "language_info": {
   "codemirror_mode": {
    "name": "ipython",
    "version": 3
   },
   "file_extension": ".py",
   "mimetype": "text/x-python",
   "name": "python",
   "nbconvert_exporter": "python",
   "pygments_lexer": "ipython3",
   "version": "3.11.8"
  }
 },
 "nbformat": 4,
 "nbformat_minor": 2
}
