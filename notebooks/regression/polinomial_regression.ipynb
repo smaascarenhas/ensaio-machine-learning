{
 "cells": [
  {
   "cell_type": "markdown",
   "metadata": {},
   "source": [
    "# 0.0 Import Library"
   ]
  },
  {
   "cell_type": "code",
   "execution_count": 1,
   "metadata": {},
   "outputs": [],
   "source": [
    "import pandas                       as pd\n",
    "import numpy as np\n",
    "\n",
    "from sklearn import preprocessing   as pp\n",
    "from sklearn import linear_model    as lm\n",
    "from sklearn import metrics         as mt\n"
   ]
  },
  {
   "cell_type": "markdown",
   "metadata": {},
   "source": [
    "# 0.1 Load dataset"
   ]
  },
  {
   "cell_type": "code",
   "execution_count": 2,
   "metadata": {},
   "outputs": [],
   "source": [
    "X_train = pd.read_csv( '../../dataset/regression/X_training.csv')\n",
    "y_train = pd.read_csv( '../../dataset/regression/y_training.csv')\n",
    "X_val = pd.read_csv( '../../dataset/regression/X_validation.csv')\n",
    "y_val = pd.read_csv( '../../dataset/regression/y_val.csv')\n",
    "X_test = pd.read_csv( '../../dataset/regression/X_test.csv')\n",
    "y_test = pd.read_csv( '../../dataset/regression/y_test.csv')"
   ]
  },
  {
   "cell_type": "markdown",
   "metadata": {},
   "source": [
    "# 1.0 Training Polynomial regression"
   ]
  },
  {
   "cell_type": "markdown",
   "metadata": {},
   "source": [
    "## Dados de treino"
   ]
  },
  {
   "cell_type": "code",
   "execution_count": 25,
   "metadata": {},
   "outputs": [
    {
     "name": "stdout",
     "output_type": "stream",
     "text": [
      "MAX R2: 0.334\n",
      "MIN MSE: 318.377\n",
      "MIN RMSE: 17.843\n",
      "MIN MAE: 13.614\n",
      "MIN MAPE: 5.913\n"
     ]
    }
   ],
   "source": [
    "# Grau do polinômio\n",
    "d = np.arange( 1, 5)\n",
    "rmse_list = []\n",
    "max_r2 = 0\n",
    "min_mse = float('inf')\n",
    "min_rmse = float('inf')\n",
    "min_mae = float('inf')\n",
    "min_mape = float('inf')\n",
    "\n",
    "for i in d:\n",
    "    # Define Polynomial regression\n",
    "    poly = pp.PolynomialFeatures( degree=i )\n",
    "    X_poly_train = poly.fit_transform( X_train )\n",
    "\n",
    "    # training\n",
    "    model = lm.LinearRegression()\n",
    "    model.fit( X_poly_train , y_train )\n",
    "\n",
    "    # performance\n",
    "    yhat_train = model.predict( X_poly_train )\n",
    "\n",
    "    # R squared\n",
    "    r_squared = np.round( mt.r2_score( y_train, yhat_train ), 3 )\n",
    "    if r_squared > max_r2:\n",
    "        max_r2 = r_squared\n",
    "    # MSE\n",
    "    mse = np.round(mt.mean_squared_error( y_train, yhat_train), 3)\n",
    "    if mse < min_mse:\n",
    "        min_mse = mse\n",
    "    # RMSE\n",
    "    rmse = np.round(np.sqrt( mse ), 3)\n",
    "    rmse_list.append( rmse )\n",
    "    if rmse < min_rmse:\n",
    "        min_rmse = rmse\n",
    "\n",
    "    # MAE\n",
    "    mae = np.round(mt.mean_absolute_error( y_train, yhat_train), 3)\n",
    "    if mae < min_mae:\n",
    "        min_mae = mae\n",
    "    # MAPE\n",
    "    mape = np.round(mt.mean_absolute_percentage_error( y_train, yhat_train), 3) \n",
    "    if mape < min_mape:\n",
    "        min_mape = mape\n",
    "    \n",
    "print('MAX R2: {}'.format( max_r2 ) )\n",
    "print('MIN MSE: {}'.format( min_mse ) )   \n",
    "print('MIN RMSE: {}'.format( min_rmse ) )\n",
    "print('MIN MAE: {}'.format( min_mae ) )\n",
    "print('MIN MAPE: {}'.format( min_mape ) )  "
   ]
  },
  {
   "cell_type": "markdown",
   "metadata": {},
   "source": [
    "## Dados de validação"
   ]
  },
  {
   "cell_type": "code",
   "execution_count": 42,
   "metadata": {},
   "outputs": [
    {
     "name": "stdout",
     "output_type": "stream",
     "text": [
      "Degree 1 R2: 0.04 MSE: 458.447 RMSE: 21.411 MAE: 17.04 MAPE: 8.683\n",
      "Degree 2 R2: 0.066 MSE: 445.768 RMSE: 21.113 MAE: 16.75 MAPE: 8.548\n",
      "Degree 3 R2: -0.048 MSE: 500.326 RMSE: 22.368 MAE: 17.087 MAPE: 8.678\n",
      "Degree 4 R2: -102.924 MSE: 49624.741 RMSE: 222.766 MAE: 36.104 MAPE: 10.185\n"
     ]
    }
   ],
   "source": [
    "# Retreinando o modelo sobre os dados de validação\n",
    "d = np.arange( 1, 5)\n",
    "\n",
    "for i in d:\n",
    "    # Define Polynomial regression\n",
    "    poly = pp.PolynomialFeatures( degree=i)\n",
    "    X_poly_train = poly.fit_transform( X_train )\n",
    "    X_poly_val = poly.transform( X_val )\n",
    "\n",
    "    # training\n",
    "    model = lm.LinearRegression()\n",
    "    model.fit( X_poly_train , y_train )\n",
    "\n",
    "    # performance\n",
    "    yhat_val = model.predict( X_poly_val )\n",
    "\n",
    "    # R squared\n",
    "    r2 = np.round( mt.r2_score( y_val, yhat_val ), 3 )\n",
    "    # MSE\n",
    "    mse = np.round(mt.mean_squared_error( y_val, yhat_val), 3)\n",
    "    # RMSE\n",
    "    rmse = np.round(np.sqrt( mse ), 3)\n",
    "    # MAE\n",
    "    mae = np.round(mt.mean_absolute_error( y_val, yhat_val), 3)\n",
    "    # MAPE\n",
    "    mape = np.round(mt.mean_absolute_percentage_error( y_val, yhat_val ), 3) \n",
    "\n",
    "   # Metrics\n",
    "    print('Degree {} R2: {} MSE: {} RMSE: {} MAE: {} MAPE: {}'.format(i, r2, mse, rmse, mae, mape) )\n",
    "\n",
    "   "
   ]
  },
  {
   "cell_type": "markdown",
   "metadata": {},
   "source": [
    "## Dados de teste"
   ]
  },
  {
   "cell_type": "code",
   "execution_count": 43,
   "metadata": {},
   "outputs": [
    {
     "name": "stdout",
     "output_type": "stream",
     "text": [
      "Degree 1 R2: 0.051 MSE: 461.988 RMSE: 21.494 MAE: 17.144 MAPE: 8.531\n",
      "Degree 2 R2: 0.091 MSE: 442.641 RMSE: 21.039 MAE: 16.736 MAPE: 8.277\n",
      "Degree 3 R2: 0.021 MSE: 476.492 RMSE: 21.829 MAE: 16.858 MAPE: 7.976\n",
      "Degree 4 R2: -124.595 MSE: 61152.315 RMSE: 247.29 MAE: 23.394 MAPE: 7.845\n"
     ]
    }
   ],
   "source": [
    "# Retreinando o modelo sobre os dados de teste\n",
    "d = np.arange( 1, 5)\n",
    "\n",
    "for i in d:\n",
    "    # Define Polynomial regression\n",
    "    poly = pp.PolynomialFeatures( degree=i)\n",
    "    X_poly_train = poly.fit_transform( X_train )\n",
    "    X_poly_val = poly.transform( X_val )\n",
    "    X_poly_test = poly.transform( X_test )\n",
    "\n",
    "    # training\n",
    "    model = lm.LinearRegression()\n",
    "    model.fit( np.concatenate( ( X_poly_train, X_poly_val ) ),\n",
    "               np.concatenate( ( y_train, y_val ) ) )\n",
    "\n",
    "    # performance\n",
    "    yhat_test = model.predict( X_poly_test )\n",
    "\n",
    "    # R squared\n",
    "    r2 = np.round( mt.r2_score( y_test, yhat_test ), 3 )\n",
    "    # MSE\n",
    "    mse = np.round(mt.mean_squared_error( y_test, yhat_test), 3)\n",
    "    # RMSE\n",
    "    rmse = np.round(np.sqrt( mse ), 3)\n",
    "    # MAE\n",
    "    mae = np.round(mt.mean_absolute_error( y_test, yhat_test), 3)\n",
    "    # MAPE\n",
    "    mape = np.round(mt.mean_absolute_percentage_error( y_test, yhat_test ), 3) \n",
    "\n",
    "   # Metrics\n",
    "    print('Degree {} R2: {} MSE: {} RMSE: {} MAE: {} MAPE: {}'.format(i, r2, mse, rmse, mae, mape) )"
   ]
  }
 ],
 "metadata": {
  "kernelspec": {
   "display_name": "fund_ml",
   "language": "python",
   "name": "python3"
  },
  "language_info": {
   "codemirror_mode": {
    "name": "ipython",
    "version": 3
   },
   "file_extension": ".py",
   "mimetype": "text/x-python",
   "name": "python",
   "nbconvert_exporter": "python",
   "pygments_lexer": "ipython3",
   "version": "3.11.8"
  }
 },
 "nbformat": 4,
 "nbformat_minor": 2
}
