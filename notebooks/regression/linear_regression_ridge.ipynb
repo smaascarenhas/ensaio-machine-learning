{
 "cells": [
  {
   "cell_type": "markdown",
   "metadata": {},
   "source": [
    "# 0.0 Import library\n"
   ]
  },
  {
   "cell_type": "code",
   "execution_count": 7,
   "metadata": {},
   "outputs": [],
   "source": [
    "import pandas as pd\n",
    "import numpy  as np\n",
    "\n",
    "from sklearn import linear_model as lm\n",
    "from sklearn import metrics as mt"
   ]
  },
  {
   "cell_type": "markdown",
   "metadata": {},
   "source": [
    "# 0.1 Load dataset"
   ]
  },
  {
   "cell_type": "code",
   "execution_count": 2,
   "metadata": {},
   "outputs": [],
   "source": [
    "X_train = pd.read_csv( '../../dataset/regression/X_training.csv')\n",
    "y_train = pd.read_csv( '../../dataset/regression/y_training.csv')\n",
    "X_val = pd.read_csv( '../../dataset/regression/X_validation.csv')\n",
    "y_val = pd.read_csv( '../../dataset/regression/y_val.csv')\n",
    "X_test = pd.read_csv( '../../dataset/regression/X_test.csv')\n",
    "y_test = pd.read_csv( '../../dataset/regression/y_test.csv')"
   ]
  },
  {
   "cell_type": "markdown",
   "metadata": {},
   "source": [
    "# 1.0 Training model\n"
   ]
  },
  {
   "cell_type": "markdown",
   "metadata": {},
   "source": [
    "## Dados de treino"
   ]
  },
  {
   "cell_type": "code",
   "execution_count": 35,
   "metadata": {},
   "outputs": [
    {
     "name": "stdout",
     "output_type": "stream",
     "text": [
      "Alpha 1 | R2: 0.046 | MSE: 455.996 | RMSE: 21.354 | MAE: 16.998 | MAPE: 8.653\n",
      "Alpha 2 | R2: 0.046 | MSE: 455.997 | RMSE: 21.354 | MAE: 16.998 | MAPE: 8.654\n",
      "Alpha 3 | R2: 0.046 | MSE: 455.999 | RMSE: 21.354 | MAE: 16.998 | MAPE: 8.654\n",
      "Alpha 4 | R2: 0.046 | MSE: 456.0 | RMSE: 21.354 | MAE: 16.999 | MAPE: 8.654\n",
      "Alpha 5 | R2: 0.046 | MSE: 456.003 | RMSE: 21.354 | MAE: 16.999 | MAPE: 8.654\n",
      "Alpha 6 | R2: 0.046 | MSE: 456.005 | RMSE: 21.354 | MAE: 16.999 | MAPE: 8.654\n",
      "Alpha 7 | R2: 0.046 | MSE: 456.008 | RMSE: 21.354 | MAE: 16.999 | MAPE: 8.655\n",
      "Alpha 8 | R2: 0.046 | MSE: 456.012 | RMSE: 21.354 | MAE: 16.999 | MAPE: 8.655\n",
      "Alpha 9 | R2: 0.046 | MSE: 456.016 | RMSE: 21.355 | MAE: 16.999 | MAPE: 8.655\n",
      "Alpha 10 | R2: 0.046 | MSE: 456.02 | RMSE: 21.355 | MAE: 16.999 | MAPE: 8.655\n",
      "Alpha 11 | R2: 0.046 | MSE: 456.024 | RMSE: 21.355 | MAE: 16.999 | MAPE: 8.655\n",
      "Alpha 12 | R2: 0.046 | MSE: 456.029 | RMSE: 21.355 | MAE: 16.999 | MAPE: 8.656\n",
      "Alpha 13 | R2: 0.046 | MSE: 456.034 | RMSE: 21.355 | MAE: 16.999 | MAPE: 8.656\n",
      "Alpha 14 | R2: 0.046 | MSE: 456.039 | RMSE: 21.355 | MAE: 17.0 | MAPE: 8.656\n",
      "Alpha 15 | R2: 0.046 | MSE: 456.045 | RMSE: 21.355 | MAE: 17.0 | MAPE: 8.656\n",
      "Alpha 16 | R2: 0.046 | MSE: 456.051 | RMSE: 21.355 | MAE: 17.0 | MAPE: 8.656\n",
      "Alpha 17 | R2: 0.046 | MSE: 456.057 | RMSE: 21.355 | MAE: 17.0 | MAPE: 8.656\n",
      "Alpha 18 | R2: 0.046 | MSE: 456.063 | RMSE: 21.356 | MAE: 17.0 | MAPE: 8.657\n",
      "Alpha 19 | R2: 0.046 | MSE: 456.069 | RMSE: 21.356 | MAE: 17.0 | MAPE: 8.657\n"
     ]
    }
   ],
   "source": [
    "a = np.arange( 1, 20, 1)\n",
    "r2_list = []\n",
    "\n",
    "for i in a:\n",
    "    # define model\n",
    "    lr_ridge = lm.Ridge( alpha=i, max_iter=1000 )\n",
    "\n",
    "    # trainig model\n",
    "    lr_ridge.fit( X_train, y_train )\n",
    "\n",
    "    # performance\n",
    "    yhat_ridge = lr_ridge.predict( X_train )\n",
    "\n",
    "    # R squared\n",
    "    r2 = np.round( mt.r2_score( y_train, yhat_ridge ), 3 )\n",
    "    r2_list.append (r2)\n",
    "    # MSE\n",
    "    mse = np.round(mt.mean_squared_error( y_train, yhat_ridge), 3)\n",
    "    # RMSE\n",
    "    rmse = np.round(np.sqrt( mse ), 3)\n",
    "    # MAE\n",
    "    mae = np.round(mt.mean_absolute_error( y_train, yhat_ridge), 3)\n",
    "    # MAPE\n",
    "    mape = np.round(mt.mean_absolute_percentage_error( y_train, yhat_ridge ), 3) \n",
    "\n",
    "    # Metrics\n",
    "    print('Alpha {} | R2: {} | MSE: {} | RMSE: {} | MAE: {} | MAPE: {}'.format(i, r2, mse, rmse, mae, mape) )\n",
    "\n"
   ]
  },
  {
   "cell_type": "markdown",
   "metadata": {},
   "source": [
    "## Dados de validação"
   ]
  },
  {
   "cell_type": "code",
   "execution_count": 36,
   "metadata": {},
   "outputs": [
    {
     "name": "stdout",
     "output_type": "stream",
     "text": [
      "Alpha 1 | R2: 0.04 | MSE: 458.445 | RMSE: 21.411 | MAE: 17.039 | MAPE: 8.682\n"
     ]
    }
   ],
   "source": [
    "# Retreinando o modelo com o melhor parâmetro sobre os dados de validação\n",
    "best_alpha = r2_list.index (max (r2_list) )\n",
    "\n",
    "# define model\n",
    "lr_ridge = lm.Ridge( alpha=a[best_alpha], max_iter=1000 )\n",
    "\n",
    "# trainig model\n",
    "lr_ridge.fit( X_train, y_train )\n",
    "\n",
    "# performance\n",
    "yhat_val = lr_ridge.predict( X_val )\n",
    "\n",
    "# R squared\n",
    "r2 = np.round( mt.r2_score( y_val, yhat_val ), 3 )\n",
    "# MSE\n",
    "mse = np.round(mt.mean_squared_error( y_val, yhat_val), 3)\n",
    "# RMSE\n",
    "rmse = np.round(np.sqrt( mse ), 3)\n",
    "# MAE\n",
    "mae = np.round(mt.mean_absolute_error( y_val, yhat_val), 3)\n",
    "# MAPE\n",
    "mape = np.round(mt.mean_absolute_percentage_error( y_val, yhat_val ), 3) \n",
    "\n",
    "# Metrics\n",
    "print('Alpha {} | R2: {} | MSE: {} | RMSE: {} | MAE: {} | MAPE: {}'.format(a[best_alpha], r2, mse, rmse, mae, mape) )\n"
   ]
  },
  {
   "cell_type": "markdown",
   "metadata": {},
   "source": [
    "## Dados de teste"
   ]
  },
  {
   "cell_type": "code",
   "execution_count": 37,
   "metadata": {},
   "outputs": [
    {
     "name": "stdout",
     "output_type": "stream",
     "text": [
      "Alpha 1 | R2: 0.051 | MSE: 461.988 | RMSE: 21.494 | MAE: 17.144 | MAPE: 8.532\n"
     ]
    },
    {
     "name": "stderr",
     "output_type": "stream",
     "text": [
      "c:\\Users\\Samir\\anaconda3\\envs\\fund_ml\\Lib\\site-packages\\sklearn\\base.py:486: UserWarning: X has feature names, but Ridge was fitted without feature names\n",
      "  warnings.warn(\n"
     ]
    }
   ],
   "source": [
    "# Retreinando o modelo com o melhor parâmetro sobre os dados de teste\n",
    "best_alpha = r2_list.index (max (r2_list) )\n",
    "\n",
    "# define model\n",
    "lr_ridge = lm.Ridge( alpha=a[best_alpha], max_iter=1000 )\n",
    "\n",
    "# trainig model\n",
    "lr_ridge.fit( np.concatenate( ( X_train, X_val ) ),\n",
    "              np.concatenate( ( y_train, y_val ) ) ) \n",
    "\n",
    "# performance\n",
    "yhat_test = lr_ridge.predict( X_test )\n",
    "\n",
    "# R squared\n",
    "r2 = np.round( mt.r2_score( y_test, yhat_test ), 3 )\n",
    "# MSE\n",
    "mse = np.round(mt.mean_squared_error( y_test, yhat_test), 3)\n",
    "# RMSE\n",
    "rmse = np.round(np.sqrt( mse ), 3)\n",
    "# MAE\n",
    "mae = np.round(mt.mean_absolute_error( y_test, yhat_test), 3)\n",
    "# MAPE\n",
    "mape = np.round(mt.mean_absolute_percentage_error( y_test, yhat_test ), 3) \n",
    "\n",
    "# Metrics\n",
    "print('Alpha {} | R2: {} | MSE: {} | RMSE: {} | MAE: {} | MAPE: {}'.format(a[best_alpha], r2, mse, rmse, mae, mape) )\n"
   ]
  }
 ],
 "metadata": {
  "kernelspec": {
   "display_name": "fund_ml",
   "language": "python",
   "name": "python3"
  },
  "language_info": {
   "codemirror_mode": {
    "name": "ipython",
    "version": 3
   },
   "file_extension": ".py",
   "mimetype": "text/x-python",
   "name": "python",
   "nbconvert_exporter": "python",
   "pygments_lexer": "ipython3",
   "version": "3.11.8"
  }
 },
 "nbformat": 4,
 "nbformat_minor": 2
}
