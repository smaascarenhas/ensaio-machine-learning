{
 "cells": [
  {
   "cell_type": "markdown",
   "metadata": {},
   "source": [
    "# 0.0 Import library"
   ]
  },
  {
   "cell_type": "code",
   "execution_count": 1,
   "metadata": {},
   "outputs": [],
   "source": [
    "import pandas                    as pd\n",
    "import numpy                     as np\n",
    "\n",
    "from sklearn import linear_model as lm\n",
    "from sklearn import metrics      as mt"
   ]
  },
  {
   "cell_type": "markdown",
   "metadata": {},
   "source": [
    "# 0.1 Load dataset"
   ]
  },
  {
   "cell_type": "code",
   "execution_count": 2,
   "metadata": {},
   "outputs": [],
   "source": [
    "X_train = pd.read_csv( '../../dataset/regression/X_training.csv')\n",
    "y_train = pd.read_csv( '../../dataset/regression/y_training.csv')\n",
    "X_val = pd.read_csv( '../../dataset/regression/X_validation.csv')\n",
    "y_val = pd.read_csv( '../../dataset/regression/y_val.csv')\n",
    "X_test = pd.read_csv( '../../dataset/regression/X_test.csv')\n",
    "y_test = pd.read_csv( '../../dataset/regression/y_test.csv')"
   ]
  },
  {
   "cell_type": "markdown",
   "metadata": {},
   "source": [
    "# 1.0 Training model"
   ]
  },
  {
   "cell_type": "markdown",
   "metadata": {},
   "source": [
    "## Dados de treino\n"
   ]
  },
  {
   "cell_type": "code",
   "execution_count": 23,
   "metadata": {},
   "outputs": [
    {
     "name": "stdout",
     "output_type": "stream",
     "text": [
      "Alpha: 1 | l1_ratio: 0.1 | R2: 0.01 | MSE: 473.211 | RMSE: 21.753 | MAE: 17.282 | MAPE: 8.722\n",
      "Alpha: 1 | l1_ratio: 0.2 | R2: 0.009 | MSE: 473.518 | RMSE: 21.76 | MAE: 17.286 | MAPE: 8.725\n",
      "Alpha: 1 | l1_ratio: 0.3 | R2: 0.009 | MSE: 473.833 | RMSE: 21.768 | MAE: 17.291 | MAPE: 8.728\n",
      "Alpha: 1 | l1_ratio: 0.4 | R2: 0.008 | MSE: 474.077 | RMSE: 21.773 | MAE: 17.295 | MAPE: 8.73\n",
      "Alpha: 1 | l1_ratio: 0.5 | R2: 0.008 | MSE: 474.269 | RMSE: 21.778 | MAE: 17.3 | MAPE: 8.732\n",
      "Alpha: 1 | l1_ratio: 0.6 | R2: 0.008 | MSE: 474.39 | RMSE: 21.78 | MAE: 17.302 | MAPE: 8.734\n",
      "Alpha: 1 | l1_ratio: 0.7 | R2: 0.007 | MSE: 474.481 | RMSE: 21.783 | MAE: 17.305 | MAPE: 8.736\n",
      "Alpha: 1 | l1_ratio: 0.8 | R2: 0.007 | MSE: 474.519 | RMSE: 21.783 | MAE: 17.306 | MAPE: 8.737\n",
      "Alpha: 1 | l1_ratio: 0.9 | R2: 0.007 | MSE: 474.499 | RMSE: 21.783 | MAE: 17.306 | MAPE: 8.737\n",
      "Alpha: 2 | l1_ratio: 0.1 | R2: 0.006 | MSE: 474.952 | RMSE: 21.793 | MAE: 17.308 | MAPE: 8.732\n",
      "Alpha: 2 | l1_ratio: 0.2 | R2: 0.006 | MSE: 475.36 | RMSE: 21.803 | MAE: 17.315 | MAPE: 8.735\n",
      "Alpha: 2 | l1_ratio: 0.3 | R2: 0.005 | MSE: 475.651 | RMSE: 21.809 | MAE: 17.321 | MAPE: 8.738\n",
      "Alpha: 2 | l1_ratio: 0.4 | R2: 0.005 | MSE: 475.802 | RMSE: 21.813 | MAE: 17.325 | MAPE: 8.739\n",
      "Alpha: 2 | l1_ratio: 0.5 | R2: 0.004 | MSE: 475.924 | RMSE: 21.816 | MAE: 17.327 | MAPE: 8.739\n",
      "Alpha: 2 | l1_ratio: 0.6 | R2: 0.004 | MSE: 476.078 | RMSE: 21.819 | MAE: 17.33 | MAPE: 8.74\n",
      "Alpha: 2 | l1_ratio: 0.7 | R2: 0.004 | MSE: 476.277 | RMSE: 21.824 | MAE: 17.333 | MAPE: 8.74\n",
      "Alpha: 2 | l1_ratio: 0.8 | R2: 0.003 | MSE: 476.543 | RMSE: 21.83 | MAE: 17.338 | MAPE: 8.74\n",
      "Alpha: 2 | l1_ratio: 0.9 | R2: 0.002 | MSE: 476.916 | RMSE: 21.838 | MAE: 17.345 | MAPE: 8.741\n",
      "Alpha: 3 | l1_ratio: 0.1 | R2: 0.004 | MSE: 475.875 | RMSE: 21.815 | MAE: 17.325 | MAPE: 8.736\n",
      "Alpha: 3 | l1_ratio: 0.2 | R2: 0.004 | MSE: 476.273 | RMSE: 21.824 | MAE: 17.333 | MAPE: 8.739\n",
      "Alpha: 3 | l1_ratio: 0.3 | R2: 0.003 | MSE: 476.479 | RMSE: 21.828 | MAE: 17.337 | MAPE: 8.74\n",
      "Alpha: 3 | l1_ratio: 0.4 | R2: 0.003 | MSE: 476.708 | RMSE: 21.834 | MAE: 17.341 | MAPE: 8.74\n",
      "Alpha: 3 | l1_ratio: 0.5 | R2: 0.002 | MSE: 477.002 | RMSE: 21.84 | MAE: 17.347 | MAPE: 8.741\n",
      "Alpha: 3 | l1_ratio: 0.6 | R2: 0.001 | MSE: 477.396 | RMSE: 21.849 | MAE: 17.354 | MAPE: 8.741\n",
      "Alpha: 3 | l1_ratio: 0.7 | R2: 0.0 | MSE: 477.945 | RMSE: 21.862 | MAE: 17.364 | MAPE: 8.742\n",
      "Alpha: 3 | l1_ratio: 0.8 | R2: 0.0 | MSE: 478.013 | RMSE: 21.864 | MAE: 17.365 | MAPE: 8.742\n",
      "Alpha: 3 | l1_ratio: 0.9 | R2: 0.0 | MSE: 478.013 | RMSE: 21.864 | MAE: 17.365 | MAPE: 8.742\n"
     ]
    }
   ],
   "source": [
    "# Não coloquei valores l1_ratio 0 e 1 para focar nos casos intermediários, pois\n",
    "# já fiz a regressção LASSO e RIDGE em notebooks separados, então o ElasticNet \n",
    "# com l1_ratio 0 e 1 não acrescentaria informações relevantes aqui\n",
    "\n",
    "a = np.arange( 1, 4, 1)\n",
    "l1_ratios = np.arange(0.1, 1.0, 0.1)\n",
    "r2_list = []\n",
    "\n",
    "for i in a:\n",
    "    for l1_value in l1_ratios:\n",
    "        # define model\n",
    "        elastic_net = lm.ElasticNet( alpha=i, l1_ratio=l1_value, max_iter=1000 )\n",
    "    \n",
    "        # trainig model\n",
    "        elastic_net.fit( X_train, y_train )\n",
    "\n",
    "        # performance\n",
    "        yhat_elastic_net = elastic_net.predict( X_train )\n",
    "\n",
    "        # R squared\n",
    "        r2 = np.round( mt.r2_score( y_train, yhat_elastic_net ), 3 )\n",
    "        r2_list.append ( r2 )\n",
    "        # MSE\n",
    "        mse = np.round(mt.mean_squared_error( y_train, yhat_elastic_net), 3)\n",
    "        # RMSE\n",
    "        rmse = np.round(np.sqrt( mse ), 3)\n",
    "        # MAE\n",
    "        mae = np.round(mt.mean_absolute_error( y_train, yhat_elastic_net), 3)\n",
    "        # MAPE\n",
    "        mape = np.round(mt.mean_absolute_percentage_error( y_train, yhat_elastic_net ), 3) \n",
    "\n",
    "        # Metrics\n",
    "        l1_value = np.round(l1_value, 1)\n",
    "        print('Alpha: {} | l1_ratio: {} | R2: {} | MSE: {} | RMSE: {} | MAE: {} | MAPE: {}'.format(i, l1_value, r2, mse, rmse, mae, mape))"
   ]
  },
  {
   "cell_type": "markdown",
   "metadata": {},
   "source": [
    "## Dados de validação"
   ]
  },
  {
   "cell_type": "code",
   "execution_count": 54,
   "metadata": {},
   "outputs": [
    {
     "name": "stdout",
     "output_type": "stream",
     "text": [
      "alpha 1 | l1_ratio 0.1 | R2: 0.01 | MSE: 472.682 | RMSE: 21.741 | MAE: 17.249 | MAPE: 8.687\n"
     ]
    }
   ],
   "source": [
    "# Retreinando o modelo com os melhores parâmetros sobre os dados de validação\n",
    "best_alpha = r2_list.index (max (r2_list) )\n",
    "\n",
    "# define model\n",
    "elastic_net = lm.ElasticNet( alpha=a[best_alpha], l1_ratio=l1_ratios[best_alpha], max_iter=1000 )\n",
    "\n",
    "# model training\n",
    "elastic_net.fit( X_train, y_train )\n",
    "\n",
    "# performance\n",
    "yhat_val = elastic_net.predict( X_val )\n",
    "\n",
    "# R squared\n",
    "r2 = np.round( mt.r2_score( y_val, yhat_val ), 3 )\n",
    "# MSE\n",
    "mse = np.round(mt.mean_squared_error( y_val, yhat_val), 3)\n",
    "# RMSE\n",
    "rmse = np.round(np.sqrt( mse ), 3)\n",
    "# MAE\n",
    "mae = np.round(mt.mean_absolute_error( y_val, yhat_val), 3)\n",
    "# MAPE\n",
    "mape = np.round(mt.mean_absolute_percentage_error( y_val, yhat_val ), 3) \n",
    "\n",
    "# Metrics\n",
    "print('alpha {} | l1_ratio {} | R2: {} | MSE: {} | RMSE: {} | MAE: {} | MAPE: {}'.format(a[best_alpha], l1_ratios[best_alpha], r2, mse, rmse, mae, mape) )\n"
   ]
  },
  {
   "cell_type": "markdown",
   "metadata": {},
   "source": [
    "## Dados de teste"
   ]
  },
  {
   "cell_type": "code",
   "execution_count": 55,
   "metadata": {},
   "outputs": [
    {
     "name": "stdout",
     "output_type": "stream",
     "text": [
      "alpha 1 | l1_ratio 0.1 | R2: 0.01 | MSE: 481.995 | RMSE: 21.954 | MAE: 17.452 | MAPE: 8.737\n"
     ]
    },
    {
     "name": "stderr",
     "output_type": "stream",
     "text": [
      "c:\\Users\\Samir\\anaconda3\\envs\\fund_ml\\Lib\\site-packages\\sklearn\\base.py:486: UserWarning: X has feature names, but ElasticNet was fitted without feature names\n",
      "  warnings.warn(\n"
     ]
    }
   ],
   "source": [
    "# Retreinando o modelo com os melhores parâmetros sobre os dados de teste\n",
    "best_alpha = r2_list.index (max (r2_list) )\n",
    "\n",
    "# define model\n",
    "elastic_net = lm.ElasticNet( alpha=a[best_alpha], l1_ratio=l1_ratios[best_alpha], max_iter=1000 )\n",
    "\n",
    "# model training\n",
    "elastic_net.fit( np.concatenate( ( X_train, X_val ) ),\n",
    "                 np.concatenate( ( y_train, y_val ) ) ) \n",
    "\n",
    "# performance\n",
    "yhat_test = elastic_net.predict( X_test )\n",
    "\n",
    "# R squared\n",
    "r2 = np.round( mt.r2_score( y_test, yhat_test ), 3 )\n",
    "# MSE\n",
    "mse = np.round(mt.mean_squared_error( y_test, yhat_test), 3)\n",
    "# RMSE\n",
    "rmse = np.round(np.sqrt( mse ), 3)\n",
    "# MAE\n",
    "mae = np.round(mt.mean_absolute_error( y_test, yhat_test), 3)\n",
    "# MAPE\n",
    "mape = np.round(mt.mean_absolute_percentage_error( y_test, yhat_test ), 3) \n",
    "\n",
    "# Metrics\n",
    "print('alpha {} | l1_ratio {} | R2: {} | MSE: {} | RMSE: {} | MAE: {} | MAPE: {}'.format(a[best_alpha], l1_ratios[best_alpha], r2, mse, rmse, mae, mape) )\n"
   ]
  }
 ],
 "metadata": {
  "kernelspec": {
   "display_name": "fund_ml",
   "language": "python",
   "name": "python3"
  },
  "language_info": {
   "codemirror_mode": {
    "name": "ipython",
    "version": 3
   },
   "file_extension": ".py",
   "mimetype": "text/x-python",
   "name": "python",
   "nbconvert_exporter": "python",
   "pygments_lexer": "ipython3",
   "version": "3.11.8"
  }
 },
 "nbformat": 4,
 "nbformat_minor": 2
}
