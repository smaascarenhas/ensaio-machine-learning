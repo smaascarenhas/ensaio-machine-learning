{
 "cells": [
  {
   "cell_type": "markdown",
   "metadata": {},
   "source": [
    "# 0.0 Import library"
   ]
  },
  {
   "cell_type": "code",
   "execution_count": 2,
   "metadata": {},
   "outputs": [],
   "source": [
    "import pandas            as pd\n",
    "import numpy             as np\n",
    "\n",
    "from sklearn import model_selection as ms\n",
    "from sklearn import tree            as tr\n",
    "from sklearn import metrics         as mt"
   ]
  },
  {
   "cell_type": "markdown",
   "metadata": {},
   "source": [
    "# 0.1 Load dataset"
   ]
  },
  {
   "cell_type": "code",
   "execution_count": 3,
   "metadata": {},
   "outputs": [],
   "source": [
    "X_train = pd.read_csv( '../../dataset/regression/X_training.csv')\n",
    "y_train = pd.read_csv( '../../dataset/regression/y_training.csv')\n",
    "X_val = pd.read_csv( '../../dataset/regression/X_validation.csv')\n",
    "y_val = pd.read_csv( '../../dataset/regression/y_val.csv')\n",
    "X_test = pd.read_csv( '../../dataset/regression/X_test.csv')\n",
    "y_test = pd.read_csv( '../../dataset/regression/y_test.csv')"
   ]
  },
  {
   "cell_type": "markdown",
   "metadata": {},
   "source": [
    "# 1.0 Training model"
   ]
  },
  {
   "cell_type": "markdown",
   "metadata": {},
   "source": [
    "## Dados de treino"
   ]
  },
  {
   "cell_type": "code",
   "execution_count": 45,
   "metadata": {},
   "outputs": [
    {
     "name": "stdout",
     "output_type": "stream",
     "text": [
      "MAX R2: 0.992\n",
      "MIN MSE: 3.94\n",
      "MIN RMSE: 1.985\n",
      "MIN MAE: 0.214\n",
      "MIN MAPE: 0.083\n"
     ]
    }
   ],
   "source": [
    "m = np.arange( 1, 41, 1)\n",
    "mse_list = []\n",
    "max_r2 = 0\n",
    "min_mse = float('inf')\n",
    "min_rmse = float('inf')\n",
    "min_mae = float('inf')\n",
    "min_mape = float('inf')\n",
    "\n",
    "for i in m:\n",
    "    # definition\n",
    "    model = tr.DecisionTreeRegressor( max_depth=i, n_estimators=50 )\n",
    "\n",
    "    # training\n",
    "    model.fit( X_train, y_train )\n",
    "\n",
    "    # performance\n",
    "    y_pred = model.predict( X_train )\n",
    "\n",
    "    # R squared\n",
    "    r2_squared = np.round( mt.r2_score( y_train, y_pred ), 3 )\n",
    "    if r2_squared > max_r2:\n",
    "        max_r2 = r2_squared\n",
    "    # MSE\n",
    "    mse = np.round(mt.mean_squared_error( y_train, y_pred), 3)\n",
    "    mse_list.append( mse )\n",
    "    if mse < min_mse:\n",
    "        min_mse = mse\n",
    "    # RMSE\n",
    "    rmse = np.round(np.sqrt( mse ), 3)\n",
    "    if rmse < min_rmse:\n",
    "        min_rmse = rmse\n",
    "\n",
    "    # MAE\n",
    "    mae = np.round(mt.mean_absolute_error( y_train, y_pred), 3)\n",
    "    if mae < min_mae:\n",
    "        min_mae = mae\n",
    "    # MAPE\n",
    "    mape = np.round(mt.mean_absolute_percentage_error( y_train, y_pred), 3) \n",
    "    if mape < min_mape:\n",
    "        min_mape = mape\n",
    "\n",
    "print( 'MAX R2: {}'.format( max_r2 ) )\n",
    "print('MIN MSE: {}'.format( min_mse ) )   \n",
    "print('MIN RMSE: {}'.format( min_rmse ) )\n",
    "print('MIN MAE: {}'.format( min_mae ) )\n",
    "print('MIN MAPE: {}'.format( min_mape ) )"
   ]
  },
  {
   "cell_type": "markdown",
   "metadata": {},
   "source": [
    "## Dados de validação"
   ]
  },
  {
   "cell_type": "code",
   "execution_count": 50,
   "metadata": {},
   "outputs": [
    {
     "name": "stdout",
     "output_type": "stream",
     "text": [
      "R2: -0.284\n",
      "MSE: 613.312\n",
      "RMSE: 24.765\n",
      "MAE: 17.115\n",
      "MAPE: 6.792\n"
     ]
    }
   ],
   "source": [
    "# Retreinando o modelo com o melhor parâmetro sobre os dados de validação\n",
    "\n",
    "best_m = mse_list.index( min ( mse_list ) )\n",
    "\n",
    "# definition\n",
    "model = tr.DecisionTreeRegressor( max_depth=m[best_m] )\n",
    "\n",
    "# training\n",
    "model.fit( X_train, y_train )\n",
    "\n",
    "# performance\n",
    "yhat_val = model.predict( X_val )\n",
    "\n",
    "# R squared\n",
    "r2_squared = np.round( mt.r2_score( y_val, yhat_val ), 3 )\n",
    "\n",
    "# MSE\n",
    "mse = np.round(mt.mean_squared_error( y_val, yhat_val), 3)\n",
    "\n",
    "# RMSE\n",
    "rmse = np.round(np.sqrt( mse ), 3)\n",
    "\n",
    "# MAE\n",
    "mae = np.round(mt.mean_absolute_error( y_val, yhat_val), 3)\n",
    "\n",
    "# MAPE\n",
    "mape = np.round(mt.mean_absolute_percentage_error( y_val, yhat_val ), 3) \n",
    "\n",
    "print( 'R2: {}'.format( r2_squared ) )\n",
    "print('MSE: {}'.format( mse ) )   \n",
    "print('RMSE: {}'.format( rmse ) )\n",
    "print('MAE: {}'.format( mae ) )\n",
    "print('MAPE: {}'.format( mape ) )"
   ]
  },
  {
   "cell_type": "markdown",
   "metadata": {},
   "source": [
    "## Dados de teste"
   ]
  },
  {
   "cell_type": "code",
   "execution_count": 51,
   "metadata": {},
   "outputs": [
    {
     "name": "stdout",
     "output_type": "stream",
     "text": [
      "R2: -0.171\n",
      "MSE: 570.296\n",
      "RMSE: 23.881\n",
      "MAE: 15.827\n",
      "MAPE: 6.114\n"
     ]
    },
    {
     "name": "stderr",
     "output_type": "stream",
     "text": [
      "c:\\Users\\Samir\\anaconda3\\envs\\fund_ml\\Lib\\site-packages\\sklearn\\base.py:486: UserWarning: X has feature names, but DecisionTreeRegressor was fitted without feature names\n",
      "  warnings.warn(\n"
     ]
    }
   ],
   "source": [
    "# Retreinando o modelo com o melhor parâmetro sobre os dados de teste\n",
    "\n",
    "best_m = mse_list.index( min ( mse_list ) )\n",
    "\n",
    "# definition\n",
    "model = tr.DecisionTreeRegressor( max_depth=m[best_m] )\n",
    "\n",
    "# training\n",
    "model.fit( np.concatenate( ( X_train, X_val ) ),\n",
    "           np.concatenate( ( y_train, y_val ) ) ) \n",
    "\n",
    "# performance\n",
    "yhat_test = model.predict( X_test )\n",
    "\n",
    "# R squared\n",
    "r2_squared = np.round( mt.r2_score( y_test, yhat_test ), 3 )\n",
    "\n",
    "# MSE\n",
    "mse = np.round(mt.mean_squared_error( y_test, yhat_test), 3)\n",
    "\n",
    "# RMSE\n",
    "rmse = np.round(np.sqrt( mse ), 3)\n",
    "\n",
    "# MAE\n",
    "mae = np.round(mt.mean_absolute_error( y_test, yhat_test), 3)\n",
    "\n",
    "# MAPE\n",
    "mape = np.round(mt.mean_absolute_percentage_error( y_test, yhat_test ), 3) \n",
    "\n",
    "print( 'R2: {}'.format( r2_squared ) )\n",
    "print('MSE: {}'.format( mse ) )   \n",
    "print('RMSE: {}'.format( rmse ) )\n",
    "print('MAE: {}'.format( mae ) )\n",
    "print('MAPE: {}'.format( mape ) )"
   ]
  }
 ],
 "metadata": {
  "kernelspec": {
   "display_name": "fund_ml",
   "language": "python",
   "name": "python3"
  },
  "language_info": {
   "codemirror_mode": {
    "name": "ipython",
    "version": 3
   },
   "file_extension": ".py",
   "mimetype": "text/x-python",
   "name": "python",
   "nbconvert_exporter": "python",
   "pygments_lexer": "ipython3",
   "version": "3.11.8"
  }
 },
 "nbformat": 4,
 "nbformat_minor": 2
}
