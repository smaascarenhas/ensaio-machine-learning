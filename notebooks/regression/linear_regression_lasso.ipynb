{
 "cells": [
  {
   "cell_type": "markdown",
   "metadata": {},
   "source": [
    "# 0.0 Import library"
   ]
  },
  {
   "cell_type": "code",
   "execution_count": 1,
   "metadata": {},
   "outputs": [],
   "source": [
    "import pandas                       as pd\n",
    "import numpy                        as np\n",
    "\n",
    "from sklearn import linear_model    as lm\n",
    "from sklearn import metrics         as mt"
   ]
  },
  {
   "cell_type": "markdown",
   "metadata": {},
   "source": [
    "# 0.1 Load dataset"
   ]
  },
  {
   "cell_type": "code",
   "execution_count": 2,
   "metadata": {},
   "outputs": [],
   "source": [
    "X_train = pd.read_csv( '../../dataset/regression/X_training.csv')\n",
    "y_train = pd.read_csv( '../../dataset/regression/y_training.csv')\n",
    "X_val = pd.read_csv( '../../dataset/regression/X_validation.csv')\n",
    "y_val = pd.read_csv( '../../dataset/regression/y_val.csv')\n",
    "X_test = pd.read_csv( '../../dataset/regression/X_test.csv')\n",
    "y_test = pd.read_csv( '../../dataset/regression/y_test.csv')"
   ]
  },
  {
   "cell_type": "markdown",
   "metadata": {},
   "source": [
    "# 1.0 Model training"
   ]
  },
  {
   "cell_type": "markdown",
   "metadata": {},
   "source": [
    "## Dados de treino"
   ]
  },
  {
   "cell_type": "code",
   "execution_count": 14,
   "metadata": {},
   "outputs": [
    {
     "name": "stdout",
     "output_type": "stream",
     "text": [
      "Alpha 1 | R2: 0.007 | MSE: 474.475 | RMSE: 21.782 | MAE: 17.305 | MAPE: 8.737\n",
      "Alpha 2 | R2: 0.001 | MSE: 477.475 | RMSE: 21.851 | MAE: 17.355 | MAPE: 8.742\n",
      "Alpha 3 | R2: 0.0 | MSE: 478.013 | RMSE: 21.864 | MAE: 17.365 | MAPE: 8.742\n",
      "Alpha 4 | R2: 0.0 | MSE: 478.013 | RMSE: 21.864 | MAE: 17.365 | MAPE: 8.742\n",
      "Alpha 5 | R2: 0.0 | MSE: 478.013 | RMSE: 21.864 | MAE: 17.365 | MAPE: 8.742\n",
      "Alpha 6 | R2: 0.0 | MSE: 478.013 | RMSE: 21.864 | MAE: 17.365 | MAPE: 8.742\n",
      "Alpha 7 | R2: 0.0 | MSE: 478.013 | RMSE: 21.864 | MAE: 17.365 | MAPE: 8.742\n",
      "Alpha 8 | R2: 0.0 | MSE: 478.013 | RMSE: 21.864 | MAE: 17.365 | MAPE: 8.742\n",
      "Alpha 9 | R2: 0.0 | MSE: 478.013 | RMSE: 21.864 | MAE: 17.365 | MAPE: 8.742\n",
      "Alpha 10 | R2: 0.0 | MSE: 478.013 | RMSE: 21.864 | MAE: 17.365 | MAPE: 8.742\n",
      "Alpha 11 | R2: 0.0 | MSE: 478.013 | RMSE: 21.864 | MAE: 17.365 | MAPE: 8.742\n",
      "Alpha 12 | R2: 0.0 | MSE: 478.013 | RMSE: 21.864 | MAE: 17.365 | MAPE: 8.742\n",
      "Alpha 13 | R2: 0.0 | MSE: 478.013 | RMSE: 21.864 | MAE: 17.365 | MAPE: 8.742\n",
      "Alpha 14 | R2: 0.0 | MSE: 478.013 | RMSE: 21.864 | MAE: 17.365 | MAPE: 8.742\n",
      "Alpha 15 | R2: 0.0 | MSE: 478.013 | RMSE: 21.864 | MAE: 17.365 | MAPE: 8.742\n",
      "Alpha 16 | R2: 0.0 | MSE: 478.013 | RMSE: 21.864 | MAE: 17.365 | MAPE: 8.742\n",
      "Alpha 17 | R2: 0.0 | MSE: 478.013 | RMSE: 21.864 | MAE: 17.365 | MAPE: 8.742\n",
      "Alpha 18 | R2: 0.0 | MSE: 478.013 | RMSE: 21.864 | MAE: 17.365 | MAPE: 8.742\n",
      "Alpha 19 | R2: 0.0 | MSE: 478.013 | RMSE: 21.864 | MAE: 17.365 | MAPE: 8.742\n"
     ]
    }
   ],
   "source": [
    "# Lasso - L1 \n",
    "a = np.arange( 1, 20, 1)\n",
    "r2_list = []\n",
    "\n",
    "for i in a:\n",
    "    # define model\n",
    "    lasso = lm.Lasso( alpha=i, max_iter=1000 )\n",
    "\n",
    "    # model training\n",
    "    lasso.fit( X_train, y_train )\n",
    "\n",
    "    # performance\n",
    "    yhat_lasso = lasso.predict( X_train )\n",
    "\n",
    "    # R squared\n",
    "    r2 = np.round( mt.r2_score( y_train, yhat_lasso ), 3 )\n",
    "    r2_list.append (r2)\n",
    "    # MSE\n",
    "    mse = np.round(mt.mean_squared_error( y_train, yhat_lasso), 3)\n",
    "    # RMSE\n",
    "    rmse = np.round(np.sqrt( mse ), 3)\n",
    "    # MAE\n",
    "    mae = np.round(mt.mean_absolute_error( y_train, yhat_lasso), 3)\n",
    "    # MAPE\n",
    "    mape = np.round(mt.mean_absolute_percentage_error( y_train, yhat_lasso ), 3) \n",
    "\n",
    "    # Metrics\n",
    "    print('Alpha {} | R2: {} | MSE: {} | RMSE: {} | MAE: {} | MAPE: {}'.format(i, r2, mse, rmse, mae, mape) )\n"
   ]
  },
  {
   "cell_type": "markdown",
   "metadata": {},
   "source": [
    "## Dados de validação\n"
   ]
  },
  {
   "cell_type": "code",
   "execution_count": 15,
   "metadata": {},
   "outputs": [
    {
     "name": "stdout",
     "output_type": "stream",
     "text": [
      "Alpha 1 | R2: 0.008 | MSE: 473.747 | RMSE: 21.766 | MAE: 17.265 | MAPE: 8.696\n"
     ]
    }
   ],
   "source": [
    "# Retreinando o modelo com o melhor parâmetro sobre os dados de validação\n",
    "best_alpha = r2_list.index (max (r2_list) )\n",
    "\n",
    "# define model\n",
    "lasso = lm.Lasso( alpha=a[best_alpha], max_iter=1000 )\n",
    "\n",
    "# model training\n",
    "lasso.fit( X_train, y_train )\n",
    "\n",
    "# performance\n",
    "yhat_val = lasso.predict( X_val )\n",
    "\n",
    "# R squared\n",
    "r2 = np.round( mt.r2_score( y_val, yhat_val ), 3 )\n",
    "# MSE\n",
    "mse = np.round(mt.mean_squared_error( y_val, yhat_val), 3)\n",
    "# RMSE\n",
    "rmse = np.round(np.sqrt( mse ), 3)\n",
    "# MAE\n",
    "mae = np.round(mt.mean_absolute_error( y_val, yhat_val), 3)\n",
    "# MAPE\n",
    "mape = np.round(mt.mean_absolute_percentage_error( y_val, yhat_val ), 3) \n",
    "\n",
    "# Metrics\n",
    "print('Alpha {} | R2: {} | MSE: {} | RMSE: {} | MAE: {} | MAPE: {}'.format(a[best_alpha], r2, mse, rmse, mae, mape) )\n"
   ]
  },
  {
   "cell_type": "markdown",
   "metadata": {},
   "source": [
    "## Dados de teste\n"
   ]
  },
  {
   "cell_type": "code",
   "execution_count": 16,
   "metadata": {},
   "outputs": [
    {
     "name": "stdout",
     "output_type": "stream",
     "text": [
      "Alpha 1 | R2: 0.008 | MSE: 483.096 | RMSE: 21.979 | MAE: 17.472 | MAPE: 8.753\n"
     ]
    },
    {
     "name": "stderr",
     "output_type": "stream",
     "text": [
      "c:\\Users\\Samir\\anaconda3\\envs\\fund_ml\\Lib\\site-packages\\sklearn\\base.py:486: UserWarning: X has feature names, but Lasso was fitted without feature names\n",
      "  warnings.warn(\n"
     ]
    }
   ],
   "source": [
    "# Retreinando o modelo com o melhor parâmetro sobre os dados de teste\n",
    "best_alpha = r2_list.index (max (r2_list) )\n",
    "\n",
    "# define model\n",
    "lasso = lm.Lasso( alpha=a[best_alpha], max_iter=1000 )\n",
    "\n",
    "# model training\n",
    "lasso.fit( np.concatenate( ( X_train, X_val ) ),\n",
    "           np.concatenate( ( y_train, y_val ) ) )\n",
    "\n",
    "# performance\n",
    "yhat_test = lasso.predict( X_test )\n",
    "\n",
    "# R squared\n",
    "r2 = np.round( mt.r2_score( y_test, yhat_test ), 3 )\n",
    "# MSE\n",
    "mse = np.round(mt.mean_squared_error( y_test, yhat_test), 3)\n",
    "# RMSE\n",
    "rmse = np.round(np.sqrt( mse ), 3)\n",
    "# MAE\n",
    "mae = np.round(mt.mean_absolute_error( y_test, yhat_test), 3)\n",
    "# MAPE\n",
    "mape = np.round(mt.mean_absolute_percentage_error( y_test, yhat_test ), 3) \n",
    "\n",
    "# Metrics\n",
    "print('Alpha {} | R2: {} | MSE: {} | RMSE: {} | MAE: {} | MAPE: {}'.format(a[best_alpha], r2, mse, rmse, mae, mape) )"
   ]
  }
 ],
 "metadata": {
  "kernelspec": {
   "display_name": "fund_ml",
   "language": "python",
   "name": "python3"
  },
  "language_info": {
   "codemirror_mode": {
    "name": "ipython",
    "version": 3
   },
   "file_extension": ".py",
   "mimetype": "text/x-python",
   "name": "python",
   "nbconvert_exporter": "python",
   "pygments_lexer": "ipython3",
   "version": "3.11.8"
  }
 },
 "nbformat": 4,
 "nbformat_minor": 2
}
